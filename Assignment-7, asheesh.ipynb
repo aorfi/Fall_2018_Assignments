{
 "cells": [
  {
   "cell_type": "code",
   "execution_count": 1,
   "metadata": {},
   "outputs": [],
   "source": [
    "import numpy as np\n",
    "import matplotlib.pyplot as plt\n",
    "import scipy.integrate as integrate\n",
    "import scipy.special as special\n",
    "import scipy.constants as con\n",
    "import scipy"
   ]
  },
  {
   "cell_type": "code",
   "execution_count": 2,
   "metadata": {},
   "outputs": [
    {
     "data": {
      "text/plain": [
       "1.0545718001391127e-34"
      ]
     },
     "execution_count": 2,
     "metadata": {},
     "output_type": "execute_result"
    }
   ],
   "source": [
    "con.hbar"
   ]
  },
  {
   "cell_type": "code",
   "execution_count": 3,
   "metadata": {},
   "outputs": [],
   "source": [
    "B_0 = (10**9)/con.hbar\n",
    "w = 18*(10**9)\n",
    "T = ((2*np.pi)/w)\n",
    "w1 = 10**9"
   ]
  },
  {
   "cell_type": "code",
   "execution_count": 4,
   "metadata": {},
   "outputs": [],
   "source": [
    "a = np.zeros((8,8))"
   ]
  },
  {
   "cell_type": "code",
   "execution_count": 5,
   "metadata": {},
   "outputs": [],
   "source": [
    "# deffining O\n",
    "a[0][0] = 21\n",
    "a[1][1] = 3\n",
    "a[2][2] = -9\n",
    "a[3][3] = -15\n",
    "a[4][4] = -15\n",
    "a[5][5] = -9\n",
    "a[6][6] = 3\n",
    "a[7][7] = 21"
   ]
  },
  {
   "cell_type": "code",
   "execution_count": 6,
   "metadata": {},
   "outputs": [],
   "source": [
    "H_0 = B_0*a*(con.hbar)**2"
   ]
  },
  {
   "cell_type": "code",
   "execution_count": null,
   "metadata": {},
   "outputs": [],
   "source": []
  },
  {
   "cell_type": "code",
   "execution_count": null,
   "metadata": {},
   "outputs": [],
   "source": []
  },
  {
   "cell_type": "code",
   "execution_count": 7,
   "metadata": {},
   "outputs": [],
   "source": [
    "b = np.zeros((8,8))\n",
    "\n",
    "b[0][1] = np.sqrt(7)\n",
    "b[1][2] = 2*np.sqrt(3)\n",
    "b[2][3] = np.sqrt(15)\n",
    "b[3][4] = 4\n",
    "b[4][5] = np.sqrt(15)\n",
    "b[5][6] = 2*np.sqrt(3)\n",
    "b[6][7] = np.sqrt(7) \n",
    "\n",
    "b=b*con.hbar\n",
    "\n",
    "c = np.transpose(b)\n",
    "#b is J+ and c is J-\n"
   ]
  },
  {
   "cell_type": "code",
   "execution_count": 8,
   "metadata": {},
   "outputs": [],
   "source": [
    "im = 1j"
   ]
  },
  {
   "cell_type": "code",
   "execution_count": 9,
   "metadata": {},
   "outputs": [],
   "source": [
    "I = np.zeros((8,8))\n",
    "for i in range(len(I)):\n",
    "    for j in range(len(I)):\n",
    "        if(i==j):\n",
    "            I[i][j] = 1"
   ]
  },
  {
   "cell_type": "code",
   "execution_count": 10,
   "metadata": {},
   "outputs": [],
   "source": [
    "#going to T in N steps using U=1-i/hbar(H)dt\n",
    "result = []\n",
    "time = []\n",
    "state = np.zeros(8)\n",
    "state[0] = 1\n",
    "N=1000\n",
    "dt = T/N\n",
    "\n",
    "for count in range(N):\n",
    "    t = T*(count/N)\n",
    "    H_1 = w1*np.e**(-1*im*dt*w)*b + w1*np.e**(im*dt*w)*c\n",
    "    H=H_0+H_1\n",
    "    u = I - ((im)/con.hbar)*(H)*(dt)\n",
    "    time.append(t/(10**9))\n",
    "    result.append(state)\n",
    "    temp = np.matmul(u,state)\n",
    "    norm=(np.linalg.norm(temp))\n",
    "    temp = temp/norm\n",
    "    state = temp\n",
    "    \n",
    "y = []\n",
    "for i in range(len(result)):\n",
    "    y.append(np.linalg.norm(result[i][1]))"
   ]
  },
  {
   "cell_type": "code",
   "execution_count": null,
   "metadata": {},
   "outputs": [],
   "source": []
  },
  {
   "cell_type": "code",
   "execution_count": null,
   "metadata": {
    "scrolled": true
   },
   "outputs": [],
   "source": []
  },
  {
   "cell_type": "code",
   "execution_count": 11,
   "metadata": {},
   "outputs": [
    {
     "data": {
      "image/png": "[encoded data removed]",
      "text/plain": [
       "<matplotlib.figure.Figure at 0x10d6487f0>"
      ]
     },
     "metadata": {},
     "output_type": "display_data"
    }
   ],
   "source": [
    "plt.title(\"probability to find the system in |7,2, 5/2> over T\")\n",
    "plt.xlabel(\"time (ns)\")\n",
    "plt.ylabel(\"probablity\")\n",
    "plt.plot(time,y)\n",
    "plt.show()"
   ]
  },
  {
   "cell_type": "code",
   "execution_count": 12,
   "metadata": {},
   "outputs": [],
   "source": [
    "#going to multiple periods in N steps using U=1-i/hbar(H)dt\n",
    "T=4*T\n",
    "result = []\n",
    "time = []\n",
    "state = np.zeros(8)\n",
    "state[0] = 1\n",
    "N=1000\n",
    "dt = T/N\n",
    "\n",
    "for count in range(N):\n",
    "    t = T*(count/N)\n",
    "    H_1 = w1*np.e**(-1*im*dt*w)*b + w1*np.e**(im*dt*w)*c\n",
    "    H=H_0+H_1\n",
    "    u = I - ((im)/con.hbar)*(H)*(dt)\n",
    "    time.append(t/(10**9))\n",
    "    result.append(state)\n",
    "    temp = np.matmul(u,state)\n",
    "    norm=(np.linalg.norm(temp))\n",
    "    temp = temp/norm\n",
    "    state = temp\n",
    "    \n",
    "y = []\n",
    "for i in range(len(result)):\n",
    "    y.append(np.linalg.norm(result[i][1]))"
   ]
  },
  {
   "cell_type": "code",
   "execution_count": 13,
   "metadata": {},
   "outputs": [
    {
     "data": {
      "image/png": "[encoded data removed]",
      "text/plain": [
       "<matplotlib.figure.Figure at 0x10d667320>"
      ]
     },
     "metadata": {},
     "output_type": "display_data"
    }
   ],
   "source": [
    "plt.title(\"probability to find the system in |7,2, 5/2>\")\n",
    "plt.xlabel(\"time (ns)\")\n",
    "plt.ylabel(\"probablity\")\n",
    "plt.plot(time,y)\n",
    "plt.show()"
   ]
  },
  {
   "cell_type": "code",
   "execution_count": 14,
   "metadata": {},
   "outputs": [
    {
     "data": {
      "text/plain": [
       "1.3962634015954636e-09"
      ]
     },
     "execution_count": 14,
     "metadata": {},
     "output_type": "execute_result"
    }
   ],
   "source": [
    "T"
   ]
  },
  {
   "cell_type": "code",
   "execution_count": 15,
   "metadata": {},
   "outputs": [],
   "source": [
    "a = state/np.linalg.norm(state)"
   ]
  },
  {
   "cell_type": "markdown",
   "metadata": {},
   "source": [
    "Question 7"
   ]
  },
  {
   "cell_type": "code",
   "execution_count": 16,
   "metadata": {},
   "outputs": [],
   "source": [
    "# deffining J_z\n",
    "J = np.zeros((8,8))\n",
    "J[0][0] = 7/2\n",
    "J[1][1] = 5/2\n",
    "J[2][2] = 3/2\n",
    "J[3][3] = 1/2\n",
    "J[4][4] = -1/2\n",
    "J[5][5] = -3/2\n",
    "J[6][6] = -5/2\n",
    "J[7][7] = -7/2\n",
    "J=con.hbar*J"
   ]
  },
  {
   "cell_type": "code",
   "execution_count": 17,
   "metadata": {},
   "outputs": [
    {
     "name": "stdout",
     "output_type": "stream",
     "text": [
      "[[-4.42920156e-24  2.79013472e-25  0.00000000e+00  0.00000000e+00\n",
      "   0.00000000e+00  0.00000000e+00  0.00000000e+00  0.00000000e+00]\n",
      " [ 2.79013472e-25 -4.42920156e-24  3.65314388e-25  0.00000000e+00\n",
      "   0.00000000e+00  0.00000000e+00  0.00000000e+00  0.00000000e+00]\n",
      " [ 0.00000000e+00  3.65314388e-25 -3.79645848e-24  4.08433902e-25\n",
      "   0.00000000e+00  0.00000000e+00  0.00000000e+00  0.00000000e+00]\n",
      " [ 0.00000000e+00  0.00000000e+00  4.08433902e-25 -2.53097232e-24\n",
      "   4.21828720e-25  0.00000000e+00  0.00000000e+00  0.00000000e+00]\n",
      " [ 0.00000000e+00  0.00000000e+00  0.00000000e+00  4.21828720e-25\n",
      "  -6.32743080e-25  4.08433902e-25  0.00000000e+00  0.00000000e+00]\n",
      " [ 0.00000000e+00  0.00000000e+00  0.00000000e+00  0.00000000e+00\n",
      "   4.08433902e-25  1.89822924e-24  3.65314388e-25  0.00000000e+00]\n",
      " [ 0.00000000e+00  0.00000000e+00  0.00000000e+00  0.00000000e+00\n",
      "   0.00000000e+00  3.65314388e-25  5.06194464e-24  2.79013472e-25]\n",
      " [ 0.00000000e+00  0.00000000e+00  0.00000000e+00  0.00000000e+00\n",
      "   0.00000000e+00  0.00000000e+00  2.79013472e-25  8.85840312e-24]]\n"
     ]
    }
   ],
   "source": [
    "Heff=H_0+w1*(b+c)-w*(J)\n",
    "print(Heff)"
   ]
  },
  {
   "cell_type": "code",
   "execution_count": 24,
   "metadata": {
    "scrolled": false
   },
   "outputs": [
    {
     "name": "stdout",
     "output_type": "stream",
     "text": [
      "eigenstates [[ 7.89739245e-01 -5.82454375e-01  1.92318198e-01  8.51454701e-03\n",
      "  -1.96593988e-04 -2.75642089e-06  2.37268218e-08  1.13626169e-10]\n",
      " [ 4.36223205e-01  7.53543504e-01  4.88245940e-01  5.90774107e-02\n",
      "  -2.69453314e-03 -6.27437934e-05  8.08952693e-07  5.41962637e-09]\n",
      " [-4.19141795e-01 -2.99726173e-01  7.99820913e-01  3.06565682e-01\n",
      "  -2.80567401e-02 -1.08871805e-03  2.10470537e-05  1.97345753e-07]\n",
      " [ 1.01004422e-01  5.52394283e-02 -2.88656488e-01  9.25301033e-01\n",
      "  -2.16820885e-01 -1.51867424e-02  4.56876080e-04  6.11959140e-06]\n",
      " [-1.17852129e-02 -5.63870142e-03  3.98135267e-02 -2.14177266e-01\n",
      "  -9.62777741e-01 -1.59259560e-01  8.22685224e-03  1.65335264e-04]\n",
      " [ 7.81534546e-04  3.45032122e-04 -2.90177291e-03  2.00000986e-02\n",
      "   1.58582291e-01 -9.80448200e-01  1.14669323e-01  3.84402186e-03]\n",
      " [-3.05972241e-05 -1.28011288e-05  1.20782262e-04 -9.67932856e-04\n",
      "  -1.02376865e-02  1.14475719e-01  9.90667026e-01  7.32692966e-02]\n",
      " [ 6.50020609e-07  2.61689397e-07 -2.67900282e-06  2.37908353e-05\n",
      "   3.01841346e-04 -4.60467739e-03 -7.32249887e-02  9.97304771e-01]]\n"
     ]
    }
   ],
   "source": [
    "E=np.linalg.eig(Heff)\n",
    "\n",
    "print(\"eigenstates\", E[1])"
   ]
  },
  {
   "cell_type": "markdown",
   "metadata": {},
   "source": [
    "Question 8"
   ]
  },
  {
   "cell_type": "code",
   "execution_count": 19,
   "metadata": {},
   "outputs": [],
   "source": [
    "p=np.zeros((8,8))\n",
    "for i in range(len(E[1])):\n",
    "   p[i]=(E[1][i])"
   ]
  },
  {
   "cell_type": "code",
   "execution_count": 20,
   "metadata": {},
   "outputs": [
    {
     "name": "stdout",
     "output_type": "stream",
     "text": [
      "[ 7.89739245e-01 -5.82454375e-01  1.92318198e-01  8.51454701e-03\n",
      " -1.96593988e-04 -2.75642089e-06  2.37268218e-08  1.13626169e-10]\n"
     ]
    }
   ],
   "source": [
    "state = np.zeros(8)\n",
    "state[0] = 1\n",
    "\n",
    "phi=np.matmul(np.linalg.inv(p),state)\n",
    "print(phi)"
   ]
  },
  {
   "cell_type": "markdown",
   "metadata": {},
   "source": [
    "Question 9\n"
   ]
  },
  {
   "cell_type": "code",
   "execution_count": 21,
   "metadata": {},
   "outputs": [],
   "source": [
    "time=[]\n",
    "y=[]\n",
    "T = ((2*np.pi)/w)\n",
    "for count in range(N):\n",
    "    t = T*(count/N)\n",
    "    time.append(t*(10**9))\n",
    "    a=np.matmul(scipy.linalg.expm(-1*im*J*w*t/con.hbar),phi)\n",
    "    a=np.matmul(p,a)\n",
    "    b=np.linalg.norm(a[1])\n",
    "    y.append(b)\n"
   ]
  },
  {
   "cell_type": "code",
   "execution_count": 22,
   "metadata": {},
   "outputs": [
    {
     "data": {
      "image/png": "[encoded data removed]",
      "text/plain": [
       "<matplotlib.figure.Figure at 0x10d7ff6a0>"
      ]
     },
     "metadata": {},
     "output_type": "display_data"
    }
   ],
   "source": [
    "plt.title(\"probability to find the system in |7,2, 5/2>\")\n",
    "plt.xlabel(\"time (ns)\")\n",
    "plt.ylabel(\"probablity\")\n",
    "plt.plot(time,y)\n",
    "plt.show()"
   ]
  },
  {
   "cell_type": "markdown",
   "metadata": {},
   "source": [
    "Question 10 "
   ]
  },
  {
   "cell_type": "markdown",
   "metadata": {},
   "source": [
    "In theroy the latter is better. Since we ignore higher order terms in U(t) making it non unitary forcing us to normalize, which only adds to the error of doing many repeated calculations. Even if we make dt really small we will just get more error due the rounding error or multiple calculations. So the second way is preferable if we ignore my mistakes. "
   ]
  }
 ],
 "metadata": {
  "kernelspec": {
   "display_name": "Python 3",
   "language": "python",
   "name": "python3"
  },
  "language_info": {
   "codemirror_mode": {
    "name": "ipython",
    "version": 3
   },
   "file_extension": ".py",
   "mimetype": "text/x-python",
   "name": "python",
   "nbconvert_exporter": "python",
   "pygments_lexer": "ipython3",
   "version": "3.6.4"
  }
 },
 "nbformat": 4,
 "nbformat_minor": 2
}
