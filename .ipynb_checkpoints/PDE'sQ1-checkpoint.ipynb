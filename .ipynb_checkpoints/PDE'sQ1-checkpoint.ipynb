{
 "cells": [
  {
   "cell_type": "code",
   "execution_count": 2,
   "metadata": {},
   "outputs": [],
   "source": [
    "import numpy as np\n",
    "import matplotlib.pyplot as plt\n",
    "import numpy as np"
   ]
  },
  {
   "cell_type": "code",
   "execution_count": 3,
   "metadata": {},
   "outputs": [],
   "source": [
    "I = np.identity(9)\n",
    "O = np.zeros((9,9))\n",
    "a = np.ones((1, 8))[0]\n",
    "b = np.ones((1, 6))[0]\n",
    "apl = O + np.diag(a,1) + np.diag(a,-1) + np.diag(b,3) + np.diag(b,-3)\n",
    "apl[2][3] = apl[3][2] = apl[5][6] = apl[6][5] = 0  "
   ]
  },
  {
   "cell_type": "code",
   "execution_count": 4,
   "metadata": {},
   "outputs": [
    {
     "data": {
      "text/plain": [
       "array([[0., 1., 0., 1., 0., 0., 0., 0., 0.],\n",
       "       [1., 0., 1., 0., 1., 0., 0., 0., 0.],\n",
       "       [0., 1., 0., 0., 0., 1., 0., 0., 0.],\n",
       "       [1., 0., 0., 0., 1., 0., 1., 0., 0.],\n",
       "       [0., 1., 0., 1., 0., 1., 0., 1., 0.],\n",
       "       [0., 0., 1., 0., 1., 0., 0., 0., 1.],\n",
       "       [0., 0., 0., 1., 0., 0., 0., 1., 0.],\n",
       "       [0., 0., 0., 0., 1., 0., 1., 0., 1.],\n",
       "       [0., 0., 0., 0., 0., 1., 0., 1., 0.]])"
      ]
     },
     "execution_count": 4,
     "metadata": {},
     "output_type": "execute_result"
    }
   ],
   "source": [
    "apl"
   ]
  },
  {
   "cell_type": "code",
   "execution_count": 5,
   "metadata": {},
   "outputs": [],
   "source": [
    "A = 4*I - apl"
   ]
  },
  {
   "cell_type": "code",
   "execution_count": 6,
   "metadata": {
    "scrolled": true
   },
   "outputs": [
    {
     "data": {
      "text/plain": [
       "array([[ 4., -1.,  0., -1.,  0.,  0.,  0.,  0.,  0.],\n",
       "       [-1.,  4., -1.,  0., -1.,  0.,  0.,  0.,  0.],\n",
       "       [ 0., -1.,  4.,  0.,  0., -1.,  0.,  0.,  0.],\n",
       "       [-1.,  0.,  0.,  4., -1.,  0., -1.,  0.,  0.],\n",
       "       [ 0., -1.,  0., -1.,  4., -1.,  0., -1.,  0.],\n",
       "       [ 0.,  0., -1.,  0., -1.,  4.,  0.,  0., -1.],\n",
       "       [ 0.,  0.,  0., -1.,  0.,  0.,  4., -1.,  0.],\n",
       "       [ 0.,  0.,  0.,  0., -1.,  0., -1.,  4., -1.],\n",
       "       [ 0.,  0.,  0.,  0.,  0., -1.,  0., -1.,  4.]])"
      ]
     },
     "execution_count": 6,
     "metadata": {},
     "output_type": "execute_result"
    }
   ],
   "source": [
    "A"
   ]
  },
  {
   "cell_type": "code",
   "execution_count": 7,
   "metadata": {},
   "outputs": [
    {
     "name": "stdout",
     "output_type": "stream",
     "text": [
      "[[1.]\n",
      " [1.]\n",
      " [1.]\n",
      " [1.]\n",
      " [1.]\n",
      " [1.]\n",
      " [1.]\n",
      " [1.]\n",
      " [1.]]\n"
     ]
    }
   ],
   "source": [
    "b = np.ones((9,1))\n",
    "print(b)"
   ]
  },
  {
   "cell_type": "code",
   "execution_count": 8,
   "metadata": {},
   "outputs": [
    {
     "name": "stdout",
     "output_type": "stream",
     "text": [
      "[[0.6875]\n",
      " [0.875 ]\n",
      " [0.6875]\n",
      " [0.875 ]\n",
      " [1.125 ]\n",
      " [0.875 ]\n",
      " [0.6875]\n",
      " [0.875 ]\n",
      " [0.6875]]\n"
     ]
    }
   ],
   "source": [
    "V = np.matmul(np.linalg.inv(A),b)\n",
    "print(V)"
   ]
  },
  {
   "cell_type": "code",
   "execution_count": 9,
   "metadata": {},
   "outputs": [
    {
     "data": {
      "text/plain": [
       "array([[0.6875, 0.875 , 0.6875]])"
      ]
     },
     "execution_count": 9,
     "metadata": {},
     "output_type": "execute_result"
    }
   ],
   "source": [
    "np.transpose(V[0:3])"
   ]
  },
  {
   "cell_type": "code",
   "execution_count": 10,
   "metadata": {},
   "outputs": [
    {
     "data": {
      "text/plain": [
       "array([[0.    , 0.    , 0.    , 0.    , 0.    ],\n",
       "       [0.    , 0.6875, 0.875 , 0.6875, 0.    ],\n",
       "       [0.    , 0.875 , 1.125 , 0.875 , 0.    ],\n",
       "       [0.    , 0.6875, 0.875 , 0.6875, 0.    ],\n",
       "       [0.    , 0.    , 0.    , 0.    , 0.    ]])"
      ]
     },
     "execution_count": 10,
     "metadata": {},
     "output_type": "execute_result"
    }
   ],
   "source": [
    "O5 = np.zeros((5,5))\n",
    "Sol = O5\n",
    "Sol[1,1:4]=np.transpose(V[6:9])\n",
    "Sol[2,1:4]=np.transpose(V[3:6])\n",
    "Sol[3,1:4]=np.transpose(V[0:3])\n",
    "Sol"
   ]
  },
  {
   "cell_type": "code",
   "execution_count": 13,
   "metadata": {
    "scrolled": false
   },
   "outputs": [
    {
     "data": {
      "text/plain": [
       "<matplotlib.colorbar.Colorbar at 0x23423064fd0>"
      ]
     },
     "execution_count": 13,
     "metadata": {},
     "output_type": "execute_result"
    },
    {
     "data": {
      "image/png": "[encoded data removed]",
      "text/plain": [
       "<Figure size 432x288 with 2 Axes>"
      ]
     },
     "metadata": {},
     "output_type": "display_data"
    }
   ],
   "source": [
    "plt.imshow(Sol,cmap='gist_gray', interpolation='gaussian',extent=[0,1,0,1], origin='lower')\n",
    "plt.colorbar()"
   ]
  },
  {
   "cell_type": "code",
   "execution_count": null,
   "metadata": {},
   "outputs": [],
   "source": [
    "#part a"
   ]
  },
  {
   "cell_type": "code",
   "execution_count": null,
   "metadata": {},
   "outputs": [],
   "source": [
    "x = [0,1/4,2/4,3/4,1]\n",
    "y = [-1,-0.5,0,0.5,1]\n",
    "plt.plot(x,y,'r.')\n",
    "plt.plot(x,y,'')"
   ]
  },
  {
   "cell_type": "code",
   "execution_count": null,
   "metadata": {},
   "outputs": [],
   "source": []
  }
 ],
 "metadata": {
  "kernelspec": {
   "display_name": "Python 3",
   "language": "python",
   "name": "python3"
  },
  "language_info": {
   "codemirror_mode": {
    "name": "ipython",
    "version": 3
   },
   "file_extension": ".py",
   "mimetype": "text/x-python",
   "name": "python",
   "nbconvert_exporter": "python",
   "pygments_lexer": "ipython3",
   "version": "3.6.4"
  }
 },
 "nbformat": 4,
 "nbformat_minor": 2
}
