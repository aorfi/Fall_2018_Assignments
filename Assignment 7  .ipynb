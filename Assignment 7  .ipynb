{
 "cells": [
  {
   "cell_type": "code",
   "execution_count": 182,
   "metadata": {},
   "outputs": [],
   "source": [
    "#import stuff\n",
    "import numpy as np\n",
    "import matplotlib.pyplot as plt\n",
    "import scipy.integrate as integrate\n",
    "import scipy.special as special"
   ]
  },
  {
   "cell_type": "code",
   "execution_count": 183,
   "metadata": {},
   "outputs": [],
   "source": [
    "#we define the variables we need\n",
    "\n",
    "w = 18*10**9\n",
    "T = (2*np.pi/w)\n",
    "h = 6.626070040*10**(-34)\n",
    "B_0 = 10**9/h"
   ]
  },
  {
   "cell_type": "code",
   "execution_count": 184,
   "metadata": {},
   "outputs": [],
   "source": [
    "#make a vector for 5/2\n",
    "state = np.zeros(8)\n",
    "state[0] = 1"
   ]
  },
  {
   "cell_type": "code",
   "execution_count": 185,
   "metadata": {},
   "outputs": [],
   "source": [
    "#make a matrix \n",
    "a = np.zeros((8,8))\n",
    "a[0][0] = 21\n",
    "a[1][1] = 3\n",
    "a[2][2] = -9\n",
    "a[3][3] = -15\n",
    "a[4][4] = -15\n",
    "a[5][5] = -9\n",
    "a[6][6] = 3\n",
    "a[7][7] = 21"
   ]
  },
  {
   "cell_type": "code",
   "execution_count": 186,
   "metadata": {},
   "outputs": [],
   "source": [
    "#define H_0 \n",
    "H_0 = h**2*B_0*a"
   ]
  },
  {
   "cell_type": "code",
   "execution_count": 187,
   "metadata": {},
   "outputs": [],
   "source": [
    "w1 = B_0*h"
   ]
  },
  {
   "cell_type": "code",
   "execution_count": 188,
   "metadata": {},
   "outputs": [],
   "source": [
    "b = np.zeros((8,8))\n",
    "\n",
    "b[0][1] = np.sqrt(7)\n",
    "b[1][2] = 2*np.sqrt(3)\n",
    "b[2][3] = np.sqrt(15)\n",
    "b[3][4] = 4\n",
    "b[4][5] = np.sqrt(15)\n",
    "b[5][6] = 2*np.sqrt(3)\n",
    "b[6][7] = np.sqrt(7) \n",
    "\n",
    "c = np.transpose(b)"
   ]
  },
  {
   "cell_type": "code",
   "execution_count": 189,
   "metadata": {},
   "outputs": [],
   "source": [
    "im = 1j"
   ]
  },
  {
   "cell_type": "code",
   "execution_count": 190,
   "metadata": {},
   "outputs": [],
   "source": [
    "I = np.zeros((8,8))\n",
    "for i in range(len(I)):\n",
    "    for j in range(len(I)):\n",
    "        if(i==j):\n",
    "            I[i][j] = 1"
   ]
  },
  {
   "cell_type": "code",
   "execution_count": 191,
   "metadata": {},
   "outputs": [],
   "source": [
    "#we iterate through 100 time steps, from 0 to T. we update 'state' every time as we go through\n",
    "result = []\n",
    "time = []\n",
    "iterations = 1000\n",
    "for count in range(iterations):\n",
    "    t = T*(count/iterations)\n",
    "    dt = T/iterations\n",
    "    time.append(t)\n",
    "    H_1 = w1*h*(np.e**(-im*t*w)*b + np.e**(im*t*w)*c)\n",
    "    u = I - (im/h)*(H_0 + H_1)*(dt)\n",
    "    print(state)\n",
    "    state = state/(np.linalg.norm(state))\n",
    "    temp = np.matmul(u,state)\n",
    "    result.append(temp)\n",
    "    state = temp"
   ]
  },
  {
   "cell_type": "code",
   "execution_count": 192,
   "metadata": {},
   "outputs": [],
   "source": [
    "y = []\n",
    "for i in range(len(result)):\n",
    "    y.append(np.sqrt(result[i][1].real**2+result[i][1].imag**2))"
   ]
  },
  {
   "cell_type": "code",
   "execution_count": 193,
   "metadata": {},
   "outputs": [
    {
     "data": {
      "text/plain": [
       "[<matplotlib.lines.Line2D at 0xf71b98fd0>]"
      ]
     },
     "execution_count": 193,
     "metadata": {},
     "output_type": "execute_result"
    },
    {
     "data": {
      "image/png": "[encoded data removed]",
      "text/plain": [
       "<Figure size 432x288 with 1 Axes>"
      ]
     },
     "metadata": {},
     "output_type": "display_data"
    }
   ],
   "source": [
    "plt.plot(time,y)"
   ]
  },
  {
   "cell_type": "code",
   "execution_count": 27,
   "metadata": {},
   "outputs": [
    {
     "data": {
      "text/plain": [
       "array([[ 2.1e+10,  0.0e+00,  0.0e+00,  0.0e+00,  0.0e+00,  0.0e+00,\n",
       "         0.0e+00,  0.0e+00],\n",
       "       [ 0.0e+00,  3.0e+09,  0.0e+00,  0.0e+00,  0.0e+00,  0.0e+00,\n",
       "         0.0e+00,  0.0e+00],\n",
       "       [ 0.0e+00,  0.0e+00, -9.0e+09,  0.0e+00,  0.0e+00,  0.0e+00,\n",
       "         0.0e+00,  0.0e+00],\n",
       "       [ 0.0e+00,  0.0e+00,  0.0e+00, -1.5e+10,  0.0e+00,  0.0e+00,\n",
       "         0.0e+00,  0.0e+00],\n",
       "       [ 0.0e+00,  0.0e+00,  0.0e+00,  0.0e+00, -1.5e+10,  0.0e+00,\n",
       "         0.0e+00,  0.0e+00],\n",
       "       [ 0.0e+00,  0.0e+00,  0.0e+00,  0.0e+00,  0.0e+00, -9.0e+09,\n",
       "         0.0e+00,  0.0e+00],\n",
       "       [ 0.0e+00,  0.0e+00,  0.0e+00,  0.0e+00,  0.0e+00,  0.0e+00,\n",
       "         3.0e+09,  0.0e+00],\n",
       "       [ 0.0e+00,  0.0e+00,  0.0e+00,  0.0e+00,  0.0e+00,  0.0e+00,\n",
       "         0.0e+00,  2.1e+10]])"
      ]
     },
     "execution_count": 27,
     "metadata": {},
     "output_type": "execute_result"
    }
   ],
   "source": [
    "H_0"
   ]
  },
  {
   "cell_type": "code",
   "execution_count": 121,
   "metadata": {},
   "outputs": [
    {
     "data": {
      "text/plain": [
       "3.490658503988659e-09"
      ]
     },
     "execution_count": 121,
     "metadata": {},
     "output_type": "execute_result"
    }
   ],
   "source": [
    "T"
   ]
  },
  {
   "cell_type": "code",
   "execution_count": 69,
   "metadata": {},
   "outputs": [],
   "source": [
    "a = state/np.linalg.norm(state)"
   ]
  },
  {
   "cell_type": "code",
   "execution_count": null,
   "metadata": {},
   "outputs": [],
   "source": []
  },
  {
   "cell_type": "code",
   "execution_count": null,
   "metadata": {},
   "outputs": [],
   "source": []
  }
 ],
 "metadata": {
  "kernelspec": {
   "display_name": "Python 3",
   "language": "python",
   "name": "python3"
  },
  "language_info": {
   "codemirror_mode": {
    "name": "ipython",
    "version": 3
   },
   "file_extension": ".py",
   "mimetype": "text/x-python",
   "name": "python",
   "nbconvert_exporter": "python",
   "pygments_lexer": "ipython3",
   "version": "3.6.5"
  }
 },
 "nbformat": 4,
 "nbformat_minor": 2
}
